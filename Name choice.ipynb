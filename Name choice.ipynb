{
 "cells": [
  {
   "cell_type": "code",
   "execution_count": 10,
   "metadata": {
    "autoscroll": "json-false",
    "collapsed": false,
    "ein.tags": [
     "worksheet-0"
    ],
    "slideshow": {
     "slide_type": "-"
    }
   },
   "outputs": [],
   "source": [
    "import matplotlib.pyplot as plt\n",
    "%matplotlib inline"
   ]
  },
  {
   "cell_type": "code",
   "execution_count": 13,
   "metadata": {
    "autoscroll": "json-false",
    "collapsed": false,
    "ein.tags": [
     "worksheet-0"
    ],
    "slideshow": {
     "slide_type": "-"
    }
   },
   "outputs": [],
   "source": [
    "NAMES = {\n",
    "    'boy': [\n",
    "        'giorgio',\n",
    "        'carlos',\n",
    "        'jules',\n",
    "    ],\n",
    "    'girl': [\n",
    "        'sophie',\n",
    "        'chloe',\n",
    "        'zoey',\n",
    "        'audrey',\n",
    "        'caroline',\n",
    "        'carolina',\n",
    "        'agatha'\n",
    "        'emma',\n",
    "        'grace',\n",
    "        'christine',\n",
    "        'vittoria',\n",
    "        'elisabeth',\n",
    "    ],\n",
    "}"
   ]
  },
  {
   "cell_type": "code",
   "execution_count": 0,
   "metadata": {
    "autoscroll": "json-false",
    "collapsed": false,
    "ein.tags": [
     "worksheet-0"
    ],
    "slideshow": {
     "slide_type": "-"
    }
   },
   "outputs": [],
   "source": [
    "# - how spread is the name in various contries\n",
    "# - check how easy it is to pronounce/understand in various languages\n",
    "# - starting letters analysis (makes a difference in school for example?) in various countries\n",
    "# - historical figures with the same names"
   ]
  }
 ],
 "metadata": {
  "kernelspec": {
   "display_name": "Python 3",
   "name": "python3"
  },
  "language_info": {
   "codemirror_mode": {
    "name": "ipython",
    "version": 3
   },
   "file_extension": ".py",
   "mimetype": "text/x-python",
   "name": "python",
   "nbconvert_exporter": "python",
   "pygments_lexer": "ipython3",
   "version": "3.4.3+"
  },
  "name": "Name choice.ipynb"
 },
 "nbformat": 4,
 "nbformat_minor": 0
}
