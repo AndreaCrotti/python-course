{
 "cells": [
  {
   "cell_type": "code",
   "execution_count": 9,
   "metadata": {
    "collapsed": true
   },
   "outputs": [],
   "source": [
    "import networkx as nx\n",
    "import bokeh\n",
    "import pandas as pd\n",
    "import sqlalchemy"
   ]
  },
  {
   "cell_type": "code",
   "execution_count": 10,
   "metadata": {
    "collapsed": true
   },
   "outputs": [],
   "source": [
    "gr = nx.DiGraph()"
   ]
  },
  {
   "cell_type": "code",
   "execution_count": 11,
   "metadata": {
    "collapsed": true
   },
   "outputs": [],
   "source": [
    "gr.add_edge(1, 2)"
   ]
  },
  {
   "cell_type": "code",
   "execution_count": 12,
   "metadata": {
    "collapsed": true
   },
   "outputs": [],
   "source": [
    "gr.add_edge(2, 3)"
   ]
  },
  {
   "cell_type": "code",
   "execution_count": 13,
   "metadata": {
    "collapsed": true
   },
   "outputs": [],
   "source": [
    "layout = nx.spring_layout(gr, iterations=100)"
   ]
  },
  {
   "cell_type": "code",
   "execution_count": 21,
   "metadata": {
    "collapsed": false
   },
   "outputs": [],
   "source": [
    "from bokeh.plotting import show, figure\n",
    "from bokeh.io import output_notebook"
   ]
  },
  {
   "cell_type": "code",
   "execution_count": 16,
   "metadata": {
    "collapsed": false
   },
   "outputs": [],
   "source": [
    "from bokeh.models import HoverTool"
   ]
  },
  {
   "cell_type": "code",
   "execution_count": 17,
   "metadata": {
    "collapsed": true
   },
   "outputs": [],
   "source": [
    "plot = figure()"
   ]
  },
  {
   "cell_type": "code",
   "execution_count": 18,
   "metadata": {
    "collapsed": false
   },
   "outputs": [
    {
     "data": {
      "text/plain": [
       "<bokeh.models.renderers.GlyphRenderer at 0x7fb7648dbcf8>"
      ]
     },
     "execution_count": 18,
     "metadata": {},
     "output_type": "execute_result"
    }
   ],
   "source": [
    "plot.circle()"
   ]
  },
  {
   "cell_type": "code",
   "execution_count": 19,
   "metadata": {
    "collapsed": false
   },
   "outputs": [
    {
     "data": {
      "text/html": [
       "\n",
       "    <div class=\"bk-root\">\n",
       "        <a href=\"http://bokeh.pydata.org\" target=\"_blank\" class=\"bk-logo bk-logo-small bk-logo-notebook\"></a>\n",
       "        <span id=\"f787597c-1afa-42b6-8380-a411fabd25f8\">Loading BokehJS ...</span>\n",
       "    </div>"
      ]
     },
     "metadata": {},
     "output_type": "display_data"
    },
    {
     "data": {
      "application/javascript": [
       "\n",
       "(function(global) {\n",
       "  function now() {\n",
       "    return new Date();\n",
       "  }\n",
       "\n",
       "  if (typeof (window._bokeh_onload_callbacks) === \"undefined\") {\n",
       "    window._bokeh_onload_callbacks = [];\n",
       "  }\n",
       "\n",
       "  function run_callbacks() {\n",
       "    window._bokeh_onload_callbacks.forEach(function(callback) { callback() });\n",
       "    delete window._bokeh_onload_callbacks\n",
       "    console.info(\"Bokeh: all callbacks have finished\");\n",
       "  }\n",
       "\n",
       "  function load_libs(js_urls, callback) {\n",
       "    window._bokeh_onload_callbacks.push(callback);\n",
       "    if (window._bokeh_is_loading > 0) {\n",
       "      console.log(\"Bokeh: BokehJS is being loaded, scheduling callback at\", now());\n",
       "      return null;\n",
       "    }\n",
       "    if (js_urls == null || js_urls.length === 0) {\n",
       "      run_callbacks();\n",
       "      return null;\n",
       "    }\n",
       "    console.log(\"Bokeh: BokehJS not loaded, scheduling load and callback at\", now());\n",
       "    window._bokeh_is_loading = js_urls.length;\n",
       "    for (var i = 0; i < js_urls.length; i++) {\n",
       "      var url = js_urls[i];\n",
       "      var s = document.createElement('script');\n",
       "      s.src = url;\n",
       "      s.async = false;\n",
       "      s.onreadystatechange = s.onload = function() {\n",
       "        window._bokeh_is_loading--;\n",
       "        if (window._bokeh_is_loading === 0) {\n",
       "          console.log(\"Bokeh: all BokehJS libraries loaded\");\n",
       "          run_callbacks()\n",
       "        }\n",
       "      };\n",
       "      s.onerror = function() {\n",
       "        console.warn(\"failed to load library \" + url);\n",
       "      };\n",
       "      console.log(\"Bokeh: injecting script tag for BokehJS library: \", url);\n",
       "      document.getElementsByTagName(\"head\")[0].appendChild(s);\n",
       "    }\n",
       "  };\n",
       "\n",
       "  var js_urls = ['https://cdn.pydata.org/bokeh/release/bokeh-0.12.0.min.js', 'https://cdn.pydata.org/bokeh/release/bokeh-widgets-0.12.0.min.js', 'https://cdn.pydata.org/bokeh/release/bokeh-compiler-0.12.0.min.js'];\n",
       "\n",
       "  var inline_js = [\n",
       "    function(Bokeh) {\n",
       "      Bokeh.set_log_level(\"info\");\n",
       "    },\n",
       "    \n",
       "    function(Bokeh) {\n",
       "      Bokeh.$(\"#f787597c-1afa-42b6-8380-a411fabd25f8\").text(\"BokehJS successfully loaded\");\n",
       "    },\n",
       "    function(Bokeh) {\n",
       "      console.log(\"Bokeh: injecting CSS: https://cdn.pydata.org/bokeh/release/bokeh-0.12.0.min.css\");\n",
       "      Bokeh.embed.inject_css(\"https://cdn.pydata.org/bokeh/release/bokeh-0.12.0.min.css\");\n",
       "      console.log(\"Bokeh: injecting CSS: https://cdn.pydata.org/bokeh/release/bokeh-widgets-0.12.0.min.css\");\n",
       "      Bokeh.embed.inject_css(\"https://cdn.pydata.org/bokeh/release/bokeh-widgets-0.12.0.min.css\");\n",
       "    }\n",
       "  ];\n",
       "\n",
       "  function run_inline_js() {\n",
       "    for (var i = 0; i < inline_js.length; i++) {\n",
       "      inline_js[i](window.Bokeh);\n",
       "    }\n",
       "  }\n",
       "\n",
       "  if (window._bokeh_is_loading === 0) {\n",
       "    console.log(\"Bokeh: BokehJS loaded, going straight to plotting\");\n",
       "    run_inline_js();\n",
       "  } else {\n",
       "    load_libs(js_urls, function() {\n",
       "      console.log(\"Bokeh: BokehJS plotting callback run at\", now());\n",
       "      run_inline_js();\n",
       "    });\n",
       "  }\n",
       "}(this));"
      ]
     },
     "metadata": {},
     "output_type": "display_data"
    },
    {
     "data": {
      "text/html": [
       "\n",
       "\n",
       "    <div class=\"bk-root\">\n",
       "        <div class=\"plotdiv\" id=\"bb9721e8-b9be-410e-ae13-3bd777b0f53a\"></div>\n",
       "    </div>\n",
       "<script type=\"text/javascript\">\n",
       "  \n",
       "  (function(global) {\n",
       "    function now() {\n",
       "      return new Date();\n",
       "    }\n",
       "  \n",
       "    if (typeof (window._bokeh_onload_callbacks) === \"undefined\") {\n",
       "      window._bokeh_onload_callbacks = [];\n",
       "    }\n",
       "  \n",
       "    function run_callbacks() {\n",
       "      window._bokeh_onload_callbacks.forEach(function(callback) { callback() });\n",
       "      delete window._bokeh_onload_callbacks\n",
       "      console.info(\"Bokeh: all callbacks have finished\");\n",
       "    }\n",
       "  \n",
       "    function load_libs(js_urls, callback) {\n",
       "      window._bokeh_onload_callbacks.push(callback);\n",
       "      if (window._bokeh_is_loading > 0) {\n",
       "        console.log(\"Bokeh: BokehJS is being loaded, scheduling callback at\", now());\n",
       "        return null;\n",
       "      }\n",
       "      if (js_urls == null || js_urls.length === 0) {\n",
       "        run_callbacks();\n",
       "        return null;\n",
       "      }\n",
       "      console.log(\"Bokeh: BokehJS not loaded, scheduling load and callback at\", now());\n",
       "      window._bokeh_is_loading = js_urls.length;\n",
       "      for (var i = 0; i < js_urls.length; i++) {\n",
       "        var url = js_urls[i];\n",
       "        var s = document.createElement('script');\n",
       "        s.src = url;\n",
       "        s.async = false;\n",
       "        s.onreadystatechange = s.onload = function() {\n",
       "          window._bokeh_is_loading--;\n",
       "          if (window._bokeh_is_loading === 0) {\n",
       "            console.log(\"Bokeh: all BokehJS libraries loaded\");\n",
       "            run_callbacks()\n",
       "          }\n",
       "        };\n",
       "        s.onerror = function() {\n",
       "          console.warn(\"failed to load library \" + url);\n",
       "        };\n",
       "        console.log(\"Bokeh: injecting script tag for BokehJS library: \", url);\n",
       "        document.getElementsByTagName(\"head\")[0].appendChild(s);\n",
       "      }\n",
       "    };var element = document.getElementById(\"bb9721e8-b9be-410e-ae13-3bd777b0f53a\");\n",
       "    if (element == null) {\n",
       "      console.log(\"Bokeh: ERROR: autoload.js configured with elementid 'bb9721e8-b9be-410e-ae13-3bd777b0f53a' but no matching script tag was found. \")\n",
       "      return false;\n",
       "    }\n",
       "  \n",
       "    var js_urls = [];\n",
       "  \n",
       "    var inline_js = [\n",
       "      function(Bokeh) {\n",
       "        Bokeh.$(function() {\n",
       "            var docs_json = {\"069d79a6-efee-4b57-9f44-1470e8a5a7b3\":{\"roots\":{\"references\":[{\"attributes\":{\"bottom_units\":\"screen\",\"fill_alpha\":{\"value\":0.5},\"fill_color\":{\"value\":\"lightgrey\"},\"left_units\":\"screen\",\"level\":\"overlay\",\"line_alpha\":{\"value\":1.0},\"line_color\":{\"value\":\"black\"},\"line_dash\":[4,4],\"line_width\":{\"value\":2},\"plot\":null,\"render_mode\":\"css\",\"right_units\":\"screen\",\"top_units\":\"screen\"},\"id\":\"435a3189-4bbb-421e-88aa-6b72dfe12e2a\",\"type\":\"BoxAnnotation\"},{\"attributes\":{\"plot\":{\"id\":\"307e14aa-b93b-42e3-a6c6-f196cb2a1c24\",\"subtype\":\"Figure\",\"type\":\"Plot\"}},\"id\":\"85ebba8e-aba0-4edd-bd0c-cd8d3b954a06\",\"type\":\"WheelZoomTool\"},{\"attributes\":{\"callback\":null},\"id\":\"9d3b6ba2-1322-4b84-8b77-043e3d0c7011\",\"type\":\"ColumnDataSource\"},{\"attributes\":{},\"id\":\"be9f967c-06f3-4f2c-a2e0-0bc3ccf4b310\",\"type\":\"BasicTicker\"},{\"attributes\":{\"formatter\":{\"id\":\"6aa3e59b-bbea-4438-a402-0349337a1aae\",\"type\":\"BasicTickFormatter\"},\"plot\":{\"id\":\"307e14aa-b93b-42e3-a6c6-f196cb2a1c24\",\"subtype\":\"Figure\",\"type\":\"Plot\"},\"ticker\":{\"id\":\"be9f967c-06f3-4f2c-a2e0-0bc3ccf4b310\",\"type\":\"BasicTicker\"}},\"id\":\"97f92abf-5342-4d1e-bb6d-e20d68ed52d0\",\"type\":\"LinearAxis\"},{\"attributes\":{},\"id\":\"6aa3e59b-bbea-4438-a402-0349337a1aae\",\"type\":\"BasicTickFormatter\"},{\"attributes\":{\"plot\":{\"id\":\"307e14aa-b93b-42e3-a6c6-f196cb2a1c24\",\"subtype\":\"Figure\",\"type\":\"Plot\"}},\"id\":\"d18b6bd1-9370-4e54-b278-2611f6ab5f5e\",\"type\":\"PanTool\"},{\"attributes\":{\"below\":[{\"id\":\"2da91e06-883e-413c-8a04-42bb4b49ae2d\",\"type\":\"LinearAxis\"}],\"left\":[{\"id\":\"97f92abf-5342-4d1e-bb6d-e20d68ed52d0\",\"type\":\"LinearAxis\"}],\"renderers\":[{\"id\":\"2da91e06-883e-413c-8a04-42bb4b49ae2d\",\"type\":\"LinearAxis\"},{\"id\":\"c29e5bb3-49ae-421b-890c-09a494de1a5a\",\"type\":\"Grid\"},{\"id\":\"97f92abf-5342-4d1e-bb6d-e20d68ed52d0\",\"type\":\"LinearAxis\"},{\"id\":\"f22094aa-bc17-4b3a-a3e7-8310558843f6\",\"type\":\"Grid\"},{\"id\":\"435a3189-4bbb-421e-88aa-6b72dfe12e2a\",\"type\":\"BoxAnnotation\"},{\"id\":\"3ed9d9ac-08ac-498a-a23d-0b64d04985c5\",\"type\":\"GlyphRenderer\"}],\"title\":{\"id\":\"1d1e376d-58ee-41dc-b462-7357cb5d99a1\",\"type\":\"Title\"},\"tool_events\":{\"id\":\"493437d2-7b93-4e27-b071-e800a53dd6f0\",\"type\":\"ToolEvents\"},\"toolbar\":{\"id\":\"00726352-a7b4-41a7-b45c-98223b7822b4\",\"type\":\"Toolbar\"},\"x_range\":{\"id\":\"abe12b28-f2d9-49f9-98c0-07d72b85ac6e\",\"type\":\"DataRange1d\"},\"y_range\":{\"id\":\"22a37869-4016-4ec3-8426-5745e7d6cbfb\",\"type\":\"DataRange1d\"}},\"id\":\"307e14aa-b93b-42e3-a6c6-f196cb2a1c24\",\"subtype\":\"Figure\",\"type\":\"Plot\"},{\"attributes\":{\"plot\":{\"id\":\"307e14aa-b93b-42e3-a6c6-f196cb2a1c24\",\"subtype\":\"Figure\",\"type\":\"Plot\"}},\"id\":\"1cb7f1ed-ccf8-4c77-973b-9c84f5447def\",\"type\":\"SaveTool\"},{\"attributes\":{\"data_source\":{\"id\":\"9d3b6ba2-1322-4b84-8b77-043e3d0c7011\",\"type\":\"ColumnDataSource\"},\"glyph\":{\"id\":\"9356cc1d-19ff-4d9f-bd1d-3fbef41d5c58\",\"type\":\"Circle\"},\"hover_glyph\":null,\"nonselection_glyph\":{\"id\":\"7a7e4bfd-041c-4185-af6f-845985115051\",\"type\":\"Circle\"},\"selection_glyph\":null},\"id\":\"3ed9d9ac-08ac-498a-a23d-0b64d04985c5\",\"type\":\"GlyphRenderer\"},{\"attributes\":{\"overlay\":{\"id\":\"435a3189-4bbb-421e-88aa-6b72dfe12e2a\",\"type\":\"BoxAnnotation\"},\"plot\":{\"id\":\"307e14aa-b93b-42e3-a6c6-f196cb2a1c24\",\"subtype\":\"Figure\",\"type\":\"Plot\"}},\"id\":\"e641ed5c-46ca-4666-b580-76bbffee8784\",\"type\":\"BoxZoomTool\"},{\"attributes\":{\"formatter\":{\"id\":\"c371d28e-035a-4e78-a601-de3b4cc6ff88\",\"type\":\"BasicTickFormatter\"},\"plot\":{\"id\":\"307e14aa-b93b-42e3-a6c6-f196cb2a1c24\",\"subtype\":\"Figure\",\"type\":\"Plot\"},\"ticker\":{\"id\":\"5f33b3d2-0a85-4491-940e-5ab54776c57b\",\"type\":\"BasicTicker\"}},\"id\":\"2da91e06-883e-413c-8a04-42bb4b49ae2d\",\"type\":\"LinearAxis\"},{\"attributes\":{\"plot\":{\"id\":\"307e14aa-b93b-42e3-a6c6-f196cb2a1c24\",\"subtype\":\"Figure\",\"type\":\"Plot\"}},\"id\":\"97e7e9bf-5103-4276-aa47-4ccc3a5d88ac\",\"type\":\"ResetTool\"},{\"attributes\":{\"active_drag\":\"auto\",\"active_scroll\":\"auto\",\"active_tap\":\"auto\",\"tools\":[{\"id\":\"d18b6bd1-9370-4e54-b278-2611f6ab5f5e\",\"type\":\"PanTool\"},{\"id\":\"85ebba8e-aba0-4edd-bd0c-cd8d3b954a06\",\"type\":\"WheelZoomTool\"},{\"id\":\"e641ed5c-46ca-4666-b580-76bbffee8784\",\"type\":\"BoxZoomTool\"},{\"id\":\"1cb7f1ed-ccf8-4c77-973b-9c84f5447def\",\"type\":\"SaveTool\"},{\"id\":\"97e7e9bf-5103-4276-aa47-4ccc3a5d88ac\",\"type\":\"ResetTool\"},{\"id\":\"66556ff4-9b86-491b-ae4f-bbd7d3d01b4e\",\"type\":\"HelpTool\"}]},\"id\":\"00726352-a7b4-41a7-b45c-98223b7822b4\",\"type\":\"Toolbar\"},{\"attributes\":{\"fill_color\":{\"value\":\"#1f77b4\"},\"line_color\":{\"value\":\"#1f77b4\"}},\"id\":\"9356cc1d-19ff-4d9f-bd1d-3fbef41d5c58\",\"type\":\"Circle\"},{\"attributes\":{},\"id\":\"5f33b3d2-0a85-4491-940e-5ab54776c57b\",\"type\":\"BasicTicker\"},{\"attributes\":{\"callback\":null},\"id\":\"22a37869-4016-4ec3-8426-5745e7d6cbfb\",\"type\":\"DataRange1d\"},{\"attributes\":{\"plot\":{\"id\":\"307e14aa-b93b-42e3-a6c6-f196cb2a1c24\",\"subtype\":\"Figure\",\"type\":\"Plot\"},\"ticker\":{\"id\":\"5f33b3d2-0a85-4491-940e-5ab54776c57b\",\"type\":\"BasicTicker\"}},\"id\":\"c29e5bb3-49ae-421b-890c-09a494de1a5a\",\"type\":\"Grid\"},{\"attributes\":{\"plot\":null,\"text\":null},\"id\":\"1d1e376d-58ee-41dc-b462-7357cb5d99a1\",\"type\":\"Title\"},{\"attributes\":{\"dimension\":1,\"plot\":{\"id\":\"307e14aa-b93b-42e3-a6c6-f196cb2a1c24\",\"subtype\":\"Figure\",\"type\":\"Plot\"},\"ticker\":{\"id\":\"be9f967c-06f3-4f2c-a2e0-0bc3ccf4b310\",\"type\":\"BasicTicker\"}},\"id\":\"f22094aa-bc17-4b3a-a3e7-8310558843f6\",\"type\":\"Grid\"},{\"attributes\":{\"callback\":null},\"id\":\"abe12b28-f2d9-49f9-98c0-07d72b85ac6e\",\"type\":\"DataRange1d\"},{\"attributes\":{},\"id\":\"c371d28e-035a-4e78-a601-de3b4cc6ff88\",\"type\":\"BasicTickFormatter\"},{\"attributes\":{\"plot\":{\"id\":\"307e14aa-b93b-42e3-a6c6-f196cb2a1c24\",\"subtype\":\"Figure\",\"type\":\"Plot\"}},\"id\":\"66556ff4-9b86-491b-ae4f-bbd7d3d01b4e\",\"type\":\"HelpTool\"},{\"attributes\":{\"fill_alpha\":{\"value\":0.1},\"fill_color\":{\"value\":\"#1f77b4\"},\"line_alpha\":{\"value\":0.1},\"line_color\":{\"value\":\"#1f77b4\"}},\"id\":\"7a7e4bfd-041c-4185-af6f-845985115051\",\"type\":\"Circle\"},{\"attributes\":{},\"id\":\"493437d2-7b93-4e27-b071-e800a53dd6f0\",\"type\":\"ToolEvents\"}],\"root_ids\":[\"307e14aa-b93b-42e3-a6c6-f196cb2a1c24\"]},\"title\":\"Bokeh Application\",\"version\":\"0.12.0\"}};\n",
       "            var render_items = [{\"docid\":\"069d79a6-efee-4b57-9f44-1470e8a5a7b3\",\"elementid\":\"bb9721e8-b9be-410e-ae13-3bd777b0f53a\",\"modelid\":\"307e14aa-b93b-42e3-a6c6-f196cb2a1c24\",\"notebook_comms_target\":\"a5f62cbf-b886-414e-8708-46c6c89d97f3\"}];\n",
       "            \n",
       "            Bokeh.embed.embed_items(docs_json, render_items);\n",
       "        });\n",
       "      },\n",
       "      function(Bokeh) {\n",
       "      }\n",
       "    ];\n",
       "  \n",
       "    function run_inline_js() {\n",
       "      for (var i = 0; i < inline_js.length; i++) {\n",
       "        inline_js[i](window.Bokeh);\n",
       "      }\n",
       "    }\n",
       "  \n",
       "    if (window._bokeh_is_loading === 0) {\n",
       "      console.log(\"Bokeh: BokehJS loaded, going straight to plotting\");\n",
       "      run_inline_js();\n",
       "    } else {\n",
       "      load_libs(js_urls, function() {\n",
       "        console.log(\"Bokeh: BokehJS plotting callback run at\", now());\n",
       "        run_inline_js();\n",
       "      });\n",
       "    }\n",
       "  }(this));\n",
       "</script>"
      ]
     },
     "metadata": {},
     "output_type": "display_data"
    },
    {
     "data": {
      "text/html": [
       "<p><code>&lt;Bokeh Notebook handle for <strong>In[2]</strong>&gt;</code></p>"
      ],
      "text/plain": [
       "<bokeh.io._CommsHandle at 0x7fb763d0d780>"
      ]
     },
     "execution_count": 19,
     "metadata": {},
     "output_type": "execute_result"
    }
   ],
   "source": [
    "output_notebook(); show(plot)"
   ]
  },
  {
   "cell_type": "code",
   "execution_count": null,
   "metadata": {
    "collapsed": true
   },
   "outputs": [],
   "source": []
  }
 ],
 "metadata": {
  "kernelspec": {
   "display_name": "Python 3",
   "language": "python",
   "name": "python3"
  },
  "language_info": {
   "codemirror_mode": {
    "name": "ipython",
    "version": 3
   },
   "file_extension": ".py",
   "mimetype": "text/x-python",
   "name": "python",
   "nbconvert_exporter": "python",
   "pygments_lexer": "ipython3",
   "version": "3.4.3+"
  }
 },
 "nbformat": 4,
 "nbformat_minor": 0
}
