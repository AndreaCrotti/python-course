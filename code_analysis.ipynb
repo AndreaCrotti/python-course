{
 "cells": [
  {
   "cell_type": "markdown",
   "metadata": {},
   "source": [
    "# Analysis of some given codebase"
   ]
  },
  {
   "cell_type": "code",
   "execution_count": 1,
   "metadata": {
    "collapsed": true
   },
   "outputs": [],
   "source": [
    "git_opts = \"log --all --numstat --date=short --pretty=format:'--%h--%ad--%aN' --no-renames\""
   ]
  },
  {
   "cell_type": "code",
   "execution_count": 2,
   "metadata": {
    "collapsed": false
   },
   "outputs": [],
   "source": [
    "import sh"
   ]
  },
  {
   "cell_type": "code",
   "execution_count": 9,
   "metadata": {
    "collapsed": false
   },
   "outputs": [],
   "source": [
    "output = sh.git(git_opts.split(' '))"
   ]
  },
  {
   "cell_type": "code",
   "execution_count": 28,
   "metadata": {
    "collapsed": false
   },
   "outputs": [
    {
     "data": {
      "text/plain": [
       "['--2962f33--2016-08-01--Andrea Crotti',\n",
       " '--50aeb88--2016-08-01--Andrea Crotti',\n",
       " '--b6032ea--2016-08-01--Andrea Crotti',\n",
       " '\\t2\\trequirements.tx',\n",
       " '',\n",
       " '--b26b9b6--2016-07-25--Andrea Crotti',\n",
       " '\\t0\\trequirements.tx',\n",
       " '',\n",
       " '--314db5f--2016-07-22--Andrea Crotti',\n",
       " '\\t0\\trequirements.tx',\n",
       " '',\n",
       " '--7e7ebc5--2016-07-14--Andrea Crotti',\n",
       " '4\\t0\\tweight analysys.ipyn',\n",
       " '',\n",
       " '--7a7a4fe--2016-07-14--Andrea Crotti',\n",
       " '\\t0\\trequirements.tx',\n",
       " '',\n",
       " '--52830ed--2016-07-07--Andrea Crotti',\n",
       " '\\t0\\tREADM',\n",
       " '\\t0\\trequirements.tx']"
      ]
     },
     "execution_count": 28,
     "metadata": {},
     "output_type": "execute_result"
    }
   ],
   "source": [
    "output_lines = [l.decode('utf-8')[1:-1] for l in output.stdout.splitlines()]\n",
    "output_lines"
   ]
  },
  {
   "cell_type": "code",
   "execution_count": 25,
   "metadata": {
    "collapsed": true
   },
   "outputs": [],
   "source": [
    "import re\n",
    "line_regexp = re.compile('--(?P<sha>.*?)--(?P<year>\\d+)-(?P<month>\\d+)-(?P<day>\\d+)--(?P<name>.*)')"
   ]
  },
  {
   "cell_type": "code",
   "execution_count": 30,
   "metadata": {
    "collapsed": false
   },
   "outputs": [
    {
     "data": {
      "text/plain": [
       "{'day': '01',\n",
       " 'month': '08',\n",
       " 'name': 'Andrea Crotti',\n",
       " 'sha': '2962f33',\n",
       " 'year': '2016'}"
      ]
     },
     "execution_count": 30,
     "metadata": {},
     "output_type": "execute_result"
    }
   ],
   "source": [
    "line_regexp.match(output_lines[0]).groupdict()"
   ]
  },
  {
   "cell_type": "code",
   "execution_count": 31,
   "metadata": {
    "collapsed": false
   },
   "outputs": [],
   "source": [
    "import seaborn"
   ]
  }
 ],
 "metadata": {
  "kernelspec": {
   "display_name": "Python 3",
   "language": "python",
   "name": "python3"
  },
  "language_info": {
   "codemirror_mode": {
    "name": "ipython",
    "version": 3
   },
   "file_extension": ".py",
   "mimetype": "text/x-python",
   "name": "python",
   "nbconvert_exporter": "python",
   "pygments_lexer": "ipython3",
   "version": "3.4.4"
  }
 },
 "nbformat": 4,
 "nbformat_minor": 0
}
