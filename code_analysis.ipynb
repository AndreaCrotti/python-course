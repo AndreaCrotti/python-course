{
 "cells": [
  {
   "cell_type": "markdown",
   "metadata": {
    "ein.tags": [
     "worksheet-0"
    ],
    "slideshow": {
     "slide_type": "-"
    }
   },
   "source": [
    "# Analysis of some given codebase"
   ]
  },
  {
   "cell_type": "code",
   "execution_count": 1,
   "metadata": {
    "autoscroll": "json-false",
    "collapsed": false,
    "ein.tags": [
     "worksheet-0"
    ],
    "slideshow": {
     "slide_type": "-"
    }
   },
   "outputs": [],
   "source": [
    "git_opts = \"log --all --numstat --date=short --pretty=format:'--%h--%ad--%aN' --no-renames\""
   ]
  },
  {
   "cell_type": "code",
   "execution_count": 2,
   "metadata": {
    "autoscroll": "json-false",
    "collapsed": false,
    "ein.tags": [
     "worksheet-0"
    ],
    "slideshow": {
     "slide_type": "-"
    }
   },
   "outputs": [],
   "source": [
    "import sh"
   ]
  },
  {
   "cell_type": "code",
   "execution_count": 3,
   "metadata": {
    "autoscroll": "json-false",
    "collapsed": false,
    "ein.tags": [
     "worksheet-0"
    ],
    "slideshow": {
     "slide_type": "-"
    }
   },
   "outputs": [],
   "source": [
    "output = sh.git(git_opts.split(' '))"
   ]
  },
  {
   "cell_type": "code",
   "execution_count": 4,
   "metadata": {
    "autoscroll": "json-false",
    "collapsed": false,
    "ein.tags": [
     "worksheet-0"
    ],
    "slideshow": {
     "slide_type": "-"
    }
   },
   "outputs": [
    {
     "data": {
      "text/plain": [
       "['--5a7da86--2016-08-09--Andrea Crotti',\n",
       " '03\\t0\\tName choice.ipyn',\n",
       " '',\n",
       " '--d1501b3--2016-08-08--Andrea Crotti',\n",
       " '\\t0\\tMakefil',\n",
       " '\\t1\\trequirements.tx',\n",
       " '',\n",
       " '--a32afe5--2016-08-02--Andrea Crotti',\n",
       " '74\\t0\\tGraphs.ipyn',\n",
       " '\\t0\\tREADM',\n",
       " '\\t6\\trequirements.tx',\n",
       " '',\n",
       " '--3438b51--2016-08-02--Andrea Crotti',\n",
       " '\\t-\\tmaps/countries.db',\n",
       " '\\t0\\tmaps/countries.pr',\n",
       " '\\t-\\tmaps/countries.sh',\n",
       " '\\t-\\tmaps/countries.sh',\n",
       " '78\\t0\\tmaps/ne_10m_land.README.htm',\n",
       " '\\t0\\tmaps/ne_10m_land.VERSION.tx',\n",
       " '\\t0\\tmaps/ne_10m_land.cp',\n",
       " '\\t-\\tmaps/ne_10m_land.db',\n",
       " '\\t0\\tmaps/ne_10m_land.pr',\n",
       " '\\t-\\tmaps/ne_10m_land.sh',\n",
       " '\\t-\\tmaps/ne_10m_land.sh',\n",
       " '',\n",
       " '--d2c9cdb--2016-08-02--Andrea Crotti',\n",
       " '002\\t0\\tgeo.ipyn',\n",
       " '\\t0\\trequirements.tx',\n",
       " '',\n",
       " '--1de15a4--2016-08-01--Andrea Crotti',\n",
       " '25\\t0\\thires.ipyn',\n",
       " '6\\t0\\tnotes.or',\n",
       " '',\n",
       " '--93aeeef--2016-08-01--Andrea Crotti',\n",
       " '\\t0\\t.en',\n",
       " '',\n",
       " '--b3522af--2016-08-01--Andrea Crotti',\n",
       " '56\\t0\\tcode_analysis.ipyn',\n",
       " '95\\t0\\tgraph libraries.ipyn',\n",
       " '\\t0\\trequirements.tx',\n",
       " '',\n",
       " '--b6032ea--2016-08-01--Andrea Crotti',\n",
       " '\\t2\\trequirements.tx',\n",
       " '',\n",
       " '--b26b9b6--2016-07-25--Andrea Crotti',\n",
       " '\\t0\\trequirements.tx',\n",
       " '',\n",
       " '--314db5f--2016-07-22--Andrea Crotti',\n",
       " '\\t0\\trequirements.tx',\n",
       " '',\n",
       " '--7e7ebc5--2016-07-14--Andrea Crotti',\n",
       " '4\\t0\\tweight analysys.ipyn',\n",
       " '',\n",
       " '--7a7a4fe--2016-07-14--Andrea Crotti',\n",
       " '\\t0\\trequirements.tx',\n",
       " '',\n",
       " '--52830ed--2016-07-07--Andrea Crotti',\n",
       " '\\t0\\tREADM',\n",
       " '\\t0\\trequirements.tx']"
      ]
     },
     "execution_count": 4,
     "metadata": {},
     "output_type": "execute_result"
    }
   ],
   "source": [
    "output_lines = [l.decode('utf-8')[1:-1] for l in output.stdout.splitlines()]\n",
    "output_lines"
   ]
  },
  {
   "cell_type": "code",
   "execution_count": 5,
   "metadata": {
    "autoscroll": "json-false",
    "collapsed": false,
    "ein.tags": [
     "worksheet-0"
    ],
    "slideshow": {
     "slide_type": "-"
    }
   },
   "outputs": [],
   "source": [
    "import re\n",
    "line_regexp = re.compile('--(?P<sha>.*?)--(?P<year>\\d+)-(?P<month>\\d+)-(?P<day>\\d+)--(?P<name>.*)')"
   ]
  },
  {
   "cell_type": "code",
   "execution_count": 6,
   "metadata": {
    "autoscroll": "json-false",
    "collapsed": false,
    "ein.tags": [
     "worksheet-0"
    ],
    "slideshow": {
     "slide_type": "-"
    }
   },
   "outputs": [
    {
     "data": {
      "text/plain": [
       "{'day': '09',\n",
       " 'month': '08',\n",
       " 'name': 'Andrea Crotti',\n",
       " 'sha': '5a7da86',\n",
       " 'year': '2016'}"
      ]
     },
     "execution_count": 6,
     "metadata": {},
     "output_type": "execute_result"
    }
   ],
   "source": [
    "line_regexp.match(output_lines[0]).groupdict()"
   ]
  },
  {
   "cell_type": "code",
   "execution_count": 8,
   "metadata": {
    "autoscroll": "json-false",
    "collapsed": false,
    "ein.tags": [
     "worksheet-0"
    ],
    "slideshow": {
     "slide_type": "-"
    }
   },
   "outputs": [],
   "source": [
    "import seaborn\n",
    "import bokeh"
   ]
  },
  {
   "cell_type": "code",
   "execution_count": 9,
   "metadata": {
    "autoscroll": "json-false",
    "collapsed": false,
    "ein.tags": [
     "worksheet-0"
    ],
    "slideshow": {
     "slide_type": "-"
    }
   },
   "outputs": [],
   "source": [
    "%matplotlib inline"
   ]
  },
  {
   "cell_type": "code",
   "execution_count": 0,
   "metadata": {
    "autoscroll": "json-false",
    "collapsed": false,
    "ein.tags": [
     "worksheet-0"
    ],
    "slideshow": {
     "slide_type": "-"
    }
   },
   "outputs": [],
   "source": []
  }
 ],
 "metadata": {
  "kernelspec": {
   "display_name": "Python 3",
   "name": "python3"
  },
  "language_info": {
   "codemirror_mode": {
    "name": "ipython",
    "version": 3
   },
   "file_extension": ".py",
   "mimetype": "text/x-python",
   "name": "python",
   "nbconvert_exporter": "python",
   "pygments_lexer": "ipython3",
   "version": "3.4.4"
  },
  "name": "code_analysis.ipynb"
 },
 "nbformat": 4,
 "nbformat_minor": 0
}
